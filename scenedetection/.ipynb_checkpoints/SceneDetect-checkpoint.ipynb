{
 "cells": [
  {
   "cell_type": "code",
   "execution_count": 1,
   "metadata": {},
   "outputs": [
    {
     "name": "stdout",
     "output_type": "stream",
     "text": [
      "Python 3.7.4\r\n"
     ]
    }
   ],
   "source": [
    "!python --version"
   ]
  },
  {
   "cell_type": "markdown",
   "metadata": {},
   "source": [
    "## SceneDetect"
   ]
  },
  {
   "cell_type": "code",
   "execution_count": 2,
   "metadata": {},
   "outputs": [
    {
     "name": "stdout",
     "output_type": "stream",
     "text": [
      "README.md\t  scenedetectenv_reqts.txt  scene_detect_with_jupyter.txt\r\n",
      "requirements.txt  SceneDetect.ipynb\r\n"
     ]
    }
   ],
   "source": [
    "!ls"
   ]
  },
  {
   "cell_type": "code",
   "execution_count": 3,
   "metadata": {},
   "outputs": [
    {
     "name": "stdout",
     "output_type": "stream",
     "text": [
      "[PySceneDetect] Output directory set:\n",
      "  /home/divyanshu_g25/src/GrayscaleVideoColorization/data/cheetah_output\n",
      "[PySceneDetect] Loaded 1 video, framerate: 29.97 FPS, resolution: 640 x 360\n",
      "[PySceneDetect] Downscale factor set to 3, effective resolution: 213 x 120\n",
      "[PySceneDetect] Scene list CSV file name format:\n",
      "  $VIDEO_NAME-Scenes.csv\n",
      "[PySceneDetect] Image output format set: JPEG\n",
      "[PySceneDetect] Detecting scenes...\n",
      "[PySceneDetect] Processed 459 frames in 0.7 seconds (average 703.54 FPS).\n",
      "[PySceneDetect] Detected 1 scenes, average shot length 15.3 seconds.\n",
      "[PySceneDetect] Writing scene list to CSV file:\n",
      "  /home/divyanshu_g25/src/GrayscaleVideoColorization/data/cheetah_output/cheetah-Scenes.csv\n",
      "[PySceneDetect] Scene List:\n",
      "-----------------------------------------------------------------------\n",
      " | Scene # | Start Frame |  Start Time  |  End Frame  |   End Time   |\n",
      "-----------------------------------------------------------------------\n",
      " |      1  |           0 | 00:00:00.000 |         459 | 00:00:15.315 |\n",
      "-----------------------------------------------------------------------\n",
      "\n",
      "[PySceneDetect] Downscale factor set to 1, effective resolution: 640 x 360\n",
      "[PySceneDetect] Generating output images (3 per scene)...\n"
     ]
    }
   ],
   "source": [
    "!scenedetect -i ../data/truth_color_videos/cheetah.mp4 -o ../data/cheetah_output/ detect-content list-scenes save-images\n",
    "#split-video"
   ]
  },
  {
   "cell_type": "code",
   "execution_count": null,
   "metadata": {},
   "outputs": [],
   "source": []
  },
  {
   "cell_type": "code",
   "execution_count": null,
   "metadata": {},
   "outputs": [],
   "source": []
  }
 ],
 "metadata": {
  "kernelspec": {
   "display_name": "Python 3",
   "language": "python",
   "name": "python3"
  },
  "language_info": {
   "codemirror_mode": {
    "name": "ipython",
    "version": 3
   },
   "file_extension": ".py",
   "mimetype": "text/x-python",
   "name": "python",
   "nbconvert_exporter": "python",
   "pygments_lexer": "ipython3",
   "version": "3.7.4"
  }
 },
 "nbformat": 4,
 "nbformat_minor": 2
}
