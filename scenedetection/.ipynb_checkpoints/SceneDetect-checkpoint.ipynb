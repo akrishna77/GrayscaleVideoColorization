{
 "cells": [
  {
   "cell_type": "code",
   "execution_count": 1,
   "metadata": {},
   "outputs": [
    {
     "name": "stdout",
     "output_type": "stream",
     "text": [
      "Python 3.7.4\r\n"
     ]
    }
   ],
   "source": [
    "!python --version"
   ]
  },
  {
   "cell_type": "markdown",
   "metadata": {},
   "source": [
    "## SceneDetect"
   ]
  },
  {
   "cell_type": "code",
   "execution_count": 2,
   "metadata": {},
   "outputs": [
    {
     "name": "stdout",
     "output_type": "stream",
     "text": [
      "[PySceneDetect] Output directory set:\n",
      "  /home/divyanshu_g25/src/VideoColorization/cheetah_output\n",
      "[PySceneDetect] Loaded 1 video, framerate: 10.00 FPS, resolution: 600 x 338\n",
      "[PySceneDetect] Downscale factor set to 3, effective resolution: 200 x 112\n",
      "[PySceneDetect] Scene list CSV file name format:\n",
      "  $VIDEO_NAME-Scenes.csv\n",
      "[PySceneDetect] Image output format set: JPEG\n",
      "[PySceneDetect] Detecting scenes...\n",
      "[PySceneDetect] Processed 100 frames in 0.3 seconds (average 308.95 FPS).\n",
      "[PySceneDetect] Detected 1 scenes, average shot length 10.0 seconds.\n",
      "[PySceneDetect] Writing scene list to CSV file:\n",
      "  /home/divyanshu_g25/src/VideoColorization/cheetah_output/cheetah-Scenes.csv\n",
      "[PySceneDetect] Scene List:\n",
      "-----------------------------------------------------------------------\n",
      " | Scene # | Start Frame |  Start Time  |  End Frame  |   End Time   |\n",
      "-----------------------------------------------------------------------\n",
      " |      1  |           0 | 00:00:00.000 |         100 | 00:00:10.000 |\n",
      "-----------------------------------------------------------------------\n",
      "\n",
      "[PySceneDetect] Downscale factor set to 1, effective resolution: 600 x 338\n",
      "[PySceneDetect] Generating output images (3 per scene)...\n"
     ]
    }
   ],
   "source": [
    "!scenedetect -i /home/divyanshu_g25/src/dataset/cheetah.gif -o cheetah_output detect-content list-scenes save-images\n",
    "#split-video"
   ]
  },
  {
   "cell_type": "code",
   "execution_count": null,
   "metadata": {},
   "outputs": [],
   "source": []
  }
 ],
 "metadata": {
  "kernelspec": {
   "display_name": "caffe-py3.6",
   "language": "python",
   "name": "caffe-py3.6"
  },
  "language_info": {
   "codemirror_mode": {
    "name": "ipython",
    "version": 3
   },
   "file_extension": ".py",
   "mimetype": "text/x-python",
   "name": "python",
   "nbconvert_exporter": "python",
   "pygments_lexer": "ipython3",
   "version": "3.6.3"
  }
 },
 "nbformat": 4,
 "nbformat_minor": 2
}
