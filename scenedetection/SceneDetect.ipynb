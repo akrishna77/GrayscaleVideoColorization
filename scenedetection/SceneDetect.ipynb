{
 "cells": [
  {
   "cell_type": "code",
   "execution_count": 1,
   "metadata": {},
   "outputs": [
    {
     "name": "stdout",
     "output_type": "stream",
     "text": [
      "Python 3.7.4\r\n"
     ]
    }
   ],
   "source": [
    "!python --version"
   ]
  },
  {
   "cell_type": "markdown",
   "metadata": {},
   "source": [
    "## SceneDetect"
   ]
  },
  {
   "cell_type": "code",
   "execution_count": 4,
   "metadata": {},
   "outputs": [
    {
     "name": "stdout",
     "output_type": "stream",
     "text": [
      "Caffe_Colorization_Notebook.ipynb  requirements.txt\t     SceneDetect.ipynb\r\n",
      "README.md\t\t\t   scenedetectenv_reqts.txt\r\n"
     ]
    }
   ],
   "source": [
    "!ls"
   ]
  },
  {
   "cell_type": "code",
   "execution_count": 5,
   "metadata": {},
   "outputs": [
    {
     "name": "stdout",
     "output_type": "stream",
     "text": [
      "[PySceneDetect] Output directory set:\r\n",
      "  /home/divyanshu_g25/src/GrayscaleVideoColorization/data/cheetah_output\r\n",
      "VIDIOC_REQBUFS: Inappropriate ioctl for device\r\n",
      "[ERROR:0] global /io/opencv/modules/videoio/src/cap.cpp (116) open VIDEOIO(CV_IMAGES): raised OpenCV exception:\r\n",
      "\r\n",
      "OpenCV(4.1.1) /io/opencv/modules/videoio/src/cap_images.cpp:253: error: (-5:Bad argument) CAP_IMAGES: can't find starting number (in the name of file): /home/divyanshu_g25/src/GrayscaleVideoColorization/data/truth_color_videos/cheetah.gif in function 'icvExtractPattern'\r\n",
      "\r\n",
      "\r\n",
      "[PySceneDetect] Could not parse CLI options.\r\n",
      "Traceback (most recent call last):\r\n",
      "  File \"/home/divyanshu_g25/src/arvind_3.7/lib/python3.7/site-packages/scenedetect/cli/context.py\", line 515, in _init_video_manager\r\n",
      "    video_files=input_list, framerate=framerate, logger=logging)\r\n",
      "  File \"/home/divyanshu_g25/src/arvind_3.7/lib/python3.7/site-packages/scenedetect/video_manager.py\", line 371, in __init__\r\n",
      "    video_files=video_files, framerate=framerate)\r\n",
      "  File \"/home/divyanshu_g25/src/arvind_3.7/lib/python3.7/site-packages/scenedetect/video_manager.py\", line 239, in open_captures\r\n",
      "    raise VideoOpenFailure(closed_caps)\r\n",
      "scenedetect.video_manager.VideoOpenFailure: OpenCV VideoCapture object failed to return True when calling isOpened().\r\n",
      "\r\n",
      "During handling of the above exception, another exception occurred:\r\n",
      "\r\n",
      "Traceback (most recent call last):\r\n",
      "  File \"/home/divyanshu_g25/src/arvind_3.7/bin/scenedetect\", line 8, in <module>\r\n",
      "    sys.exit(main())\r\n",
      "  File \"/home/divyanshu_g25/src/arvind_3.7/lib/python3.7/site-packages/scenedetect/__main__.py\", line 58, in main\r\n",
      "    cli.main(obj=cli_ctx)   # Parse CLI arguments with registered callbacks.\r\n",
      "  File \"/home/divyanshu_g25/src/arvind_3.7/lib/python3.7/site-packages/click/core.py\", line 717, in main\r\n",
      "    rv = self.invoke(ctx)\r\n",
      "  File \"/home/divyanshu_g25/src/arvind_3.7/lib/python3.7/site-packages/click/core.py\", line 1146, in invoke\r\n",
      "    Command.invoke(self, ctx)\r\n",
      "  File \"/home/divyanshu_g25/src/arvind_3.7/lib/python3.7/site-packages/click/core.py\", line 956, in invoke\r\n",
      "    return ctx.invoke(self.callback, **ctx.params)\r\n",
      "  File \"/home/divyanshu_g25/src/arvind_3.7/lib/python3.7/site-packages/click/core.py\", line 555, in invoke\r\n",
      "    return callback(*args, **kwargs)\r\n",
      "  File \"/home/divyanshu_g25/src/arvind_3.7/lib/python3.7/site-packages/click/decorators.py\", line 17, in new_func\r\n",
      "    return f(get_current_context(), *args, **kwargs)\r\n",
      "  File \"/home/divyanshu_g25/src/arvind_3.7/lib/python3.7/site-packages/scenedetect/cli/__init__.py\", line 290, in scenedetect_cli\r\n",
      "    frame_skip=frame_skip)\r\n",
      "  File \"/home/divyanshu_g25/src/arvind_3.7/lib/python3.7/site-packages/scenedetect/cli/context.py\", line 584, in parse_options\r\n",
      "    input_list=input_list, framerate=framerate, downscale=downscale)\r\n",
      "  File \"/home/divyanshu_g25/src/arvind_3.7/lib/python3.7/site-packages/scenedetect/cli/context.py\", line 524, in _init_video_manager\r\n",
      "    dll_okay, dll_name = check_opencv_ffmpeg_dll()\r\n",
      "TypeError: cannot unpack non-iterable bool object\r\n"
     ]
    }
   ],
   "source": [
    "!scenedetect -i ../data/truth_color_videos/cheetah.gif -o ../data/cheetah_output detect-content list-scenes save-images\n",
    "#split-video"
   ]
  },
  {
   "cell_type": "code",
   "execution_count": null,
   "metadata": {},
   "outputs": [],
   "source": []
  }
 ],
 "metadata": {
  "kernelspec": {
   "display_name": "caffe-py3.6",
   "language": "python",
   "name": "caffe-py3.6"
  },
  "language_info": {
   "codemirror_mode": {
    "name": "ipython",
    "version": 3
   },
   "file_extension": ".py",
   "mimetype": "text/x-python",
   "name": "python",
   "nbconvert_exporter": "python",
   "pygments_lexer": "ipython3",
   "version": "3.6.3"
  }
 },
 "nbformat": 4,
 "nbformat_minor": 2
}
